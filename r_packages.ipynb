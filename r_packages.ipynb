{
 "cells": [
  {
   "cell_type": "markdown",
   "metadata": {
    "application/vnd.databricks.v1+cell": {
     "cellMetadata": {},
     "inputWidgets": {},
     "nuid": "8efddb11-7ae2-4147-8411-bd9312e56372",
     "showTitle": false,
     "title": ""
    }
   },
   "source": [
    "# Analyzing R package download frequency\n",
    "Based on https://github.com/XD-DENG/Spark-practice, this notebook is licensed under [CC BY-NC-SA 4.0](https://creativecommons.org/licenses/by-nc-sa/4.0/)."
   ]
  },
  {
   "cell_type": "code",
   "execution_count": 35,
   "metadata": {},
   "outputs": [],
   "source": [
    "import os\n",
    "from pyspark.context import SparkContext\n",
    "\n",
    "os.environ[\"PYTHONHASHSEED\"] = \"0\""
   ]
  },
  {
   "cell_type": "markdown",
   "metadata": {
    "application/vnd.databricks.v1+cell": {
     "cellMetadata": {},
     "inputWidgets": {},
     "nuid": "3cac5e3a-078a-423d-93b0-d1aaceadfab2",
     "showTitle": false,
     "title": ""
    }
   },
   "source": [
    "## Download data"
   ]
  },
  {
   "cell_type": "code",
   "execution_count": 21,
   "metadata": {
    "application/vnd.databricks.v1+cell": {
     "cellMetadata": {},
     "inputWidgets": {},
     "nuid": "913eedd6-b4b5-4cfe-8ab0-115740979ce4",
     "showTitle": false,
     "title": ""
    }
   },
   "outputs": [
    {
     "name": "stdout",
     "output_type": "stream",
     "text": [
      "--2023-11-13 21:44:58--  http://cran-logs.rstudio.com/2023/2023-11-12.csv.gz\n",
      "Resolving cran-logs.rstudio.com (cran-logs.rstudio.com)... 52.92.180.187, 52.218.242.178, 52.218.178.98, ...\n",
      "Connecting to cran-logs.rstudio.com (cran-logs.rstudio.com)|52.92.180.187|:80... connected.\n",
      "HTTP request sent, awaiting response... 200 OK\n",
      "Length: 46446548 (44M) [application/gzip]\n",
      "Saving to: ‘2023-11-12.csv.gz’\n",
      "\n",
      "2023-11-12.csv.gz   100%[===================>]  44.29M  4.43MB/s    in 43s     \n",
      "\n",
      "2023-11-13 21:45:42 (1.03 MB/s) - ‘2023-11-12.csv.gz’ saved [46446548/46446548]\n",
      "\n"
     ]
    }
   ],
   "source": [
    "!wget http://cran-logs.rstudio.com/2023/2023-11-12.csv.gz"
   ]
  },
  {
   "cell_type": "code",
   "execution_count": 3,
   "metadata": {},
   "outputs": [],
   "source": [
    "sc = SparkContext('local', 'r-packages')"
   ]
  },
  {
   "cell_type": "markdown",
   "metadata": {
    "application/vnd.databricks.v1+cell": {
     "cellMetadata": {},
     "inputWidgets": {},
     "nuid": "22747de0-cf35-42e4-92b1-40da4123ee87",
     "showTitle": false,
     "title": ""
    }
   },
   "source": [
    "## Import data into an Resilient Distributed Dataset (RDD)"
   ]
  },
  {
   "cell_type": "code",
   "execution_count": 22,
   "metadata": {
    "application/vnd.databricks.v1+cell": {
     "cellMetadata": {},
     "inputWidgets": {},
     "nuid": "c573aacb-14da-4dcf-a2d0-881c4e3c7ce9",
     "showTitle": false,
     "title": ""
    }
   },
   "outputs": [
    {
     "data": {
      "text/plain": [
       "pyspark.rdd.RDD"
      ]
     },
     "execution_count": 22,
     "metadata": {},
     "output_type": "execute_result"
    }
   ],
   "source": [
    "# A Spark Context \"sc\" is already made for us by Databricks.\n",
    "# Note that we don't have to unzip the data file, `sc.textFile` does that for us.\n",
    "# `sc.textFile` produces an RDD.\n",
    "\n",
    "raw_content = sc.textFile(\"./2023-11-12.csv.gz\")\n",
    "type(raw_content)"
   ]
  },
  {
   "cell_type": "markdown",
   "metadata": {
    "application/vnd.databricks.v1+cell": {
     "cellMetadata": {},
     "inputWidgets": {},
     "nuid": "cc47396f-f68b-418b-a9dc-e1cd732982a5",
     "showTitle": false,
     "title": ""
    }
   },
   "source": [
    "## Data overview"
   ]
  },
  {
   "cell_type": "code",
   "execution_count": 23,
   "metadata": {
    "application/vnd.databricks.v1+cell": {
     "cellMetadata": {},
     "inputWidgets": {},
     "nuid": "c0275441-90c1-49fe-be52-c22663e181f7",
     "showTitle": false,
     "title": ""
    }
   },
   "outputs": [
    {
     "data": {
      "text/plain": [
       "['\"date\",\"time\",\"size\",\"r_version\",\"r_arch\",\"r_os\",\"package\",\"version\",\"country\",\"ip_id\"',\n",
       " '\"2023-11-12\",\"10:49:26\",315371,\"4.3.2\",\"x86_64\",\"mingw32\",\"gower\",\"1.0.1\",\"AU\",1',\n",
       " '\"2023-11-12\",\"10:49:24\",2563987,\"4.3.2\",\"x86_64\",\"mingw32\",\"lava\",\"1.7.3\",\"AU\",1',\n",
       " '\"2023-11-12\",\"10:49:21\",677249,\"4.3.2\",\"x86_64\",\"mingw32\",\"future\",\"1.33.0\",\"AU\",1',\n",
       " '\"2023-11-12\",\"10:49:26\",1106170,\"4.2.1\",\"x86_64\",\"mingw32\",\"jsonlite\",\"1.8.7\",\"CN\",2']"
      ]
     },
     "execution_count": 23,
     "metadata": {},
     "output_type": "execute_result"
    }
   ],
   "source": [
    "# Let's have a look at a few lines.\n",
    "raw_content.take(5)"
   ]
  },
  {
   "cell_type": "code",
   "execution_count": 24,
   "metadata": {
    "application/vnd.databricks.v1+cell": {
     "cellMetadata": {},
     "inputWidgets": {},
     "nuid": "a614d884-223d-45f7-b573-5e6a640bde50",
     "showTitle": false,
     "title": ""
    }
   },
   "outputs": [
    {
     "data": {
      "text/plain": [
       "3523030"
      ]
     },
     "execution_count": 24,
     "metadata": {},
     "output_type": "execute_result"
    }
   ],
   "source": [
    "# How many data lines do we have in total?\n",
    "raw_content.count()"
   ]
  },
  {
   "cell_type": "markdown",
   "metadata": {
    "application/vnd.databricks.v1+cell": {
     "cellMetadata": {},
     "inputWidgets": {},
     "nuid": "cd4b316b-da04-4c8c-9f9d-665bc1b227a8",
     "showTitle": false,
     "title": ""
    },
    "jp-MarkdownHeadingCollapsed": true
   },
   "source": [
    "## Intermezzo 1: Set Operations"
   ]
  },
  {
   "cell_type": "code",
   "execution_count": 12,
   "metadata": {
    "application/vnd.databricks.v1+cell": {
     "cellMetadata": {},
     "inputWidgets": {},
     "nuid": "93c48a36-679b-499b-ad82-882d8b9a8e13",
     "showTitle": false,
     "title": ""
    }
   },
   "outputs": [
    {
     "data": {
      "text/plain": [
       "28666"
      ]
     },
     "execution_count": 12,
     "metadata": {},
     "output_type": "execute_result"
    }
   ],
   "source": [
    "# Combine two sets, for the case of the same set it results in twice the rows. You can compare that to the `count()` output above.\n",
    "raw_content.union(raw_content).count()"
   ]
  },
  {
   "cell_type": "code",
   "execution_count": 13,
   "metadata": {
    "application/vnd.databricks.v1+cell": {
     "cellMetadata": {},
     "inputWidgets": {},
     "nuid": "b9231d86-26e5-4a0e-a88b-f5bb1d77c5cb",
     "showTitle": false,
     "title": ""
    }
   },
   "outputs": [
    {
     "data": {
      "text/plain": [
       "14327"
      ]
     },
     "execution_count": 13,
     "metadata": {},
     "output_type": "execute_result"
    }
   ],
   "source": [
    "# Show only rows that are the same in both sets. Note that this is less than `raw_content.count()` due to duplicate lines.\n",
    "raw_content.intersection(raw_content).count()"
   ]
  },
  {
   "cell_type": "code",
   "execution_count": 14,
   "metadata": {
    "application/vnd.databricks.v1+cell": {
     "cellMetadata": {},
     "inputWidgets": {},
     "nuid": "02240d6d-962a-4922-adc8-3189e7682ffe",
     "showTitle": false,
     "title": ""
    }
   },
   "outputs": [
    {
     "data": {
      "text/plain": [
       "14327"
      ]
     },
     "execution_count": 14,
     "metadata": {},
     "output_type": "execute_result"
    }
   ],
   "source": [
    "# The above intersection with itself is the same as `distinct()` which shows only unique rows.\n",
    "raw_content.distinct().count()"
   ]
  },
  {
   "cell_type": "markdown",
   "metadata": {
    "application/vnd.databricks.v1+cell": {
     "cellMetadata": {},
     "inputWidgets": {},
     "nuid": "be372ed6-e9f7-40d9-82f4-7425c61af5a3",
     "showTitle": false,
     "title": ""
    }
   },
   "source": [
    "## Data cleaning"
   ]
  },
  {
   "cell_type": "code",
   "execution_count": 25,
   "metadata": {
    "application/vnd.databricks.v1+cell": {
     "cellMetadata": {},
     "inputWidgets": {},
     "nuid": "1963bb31-2c70-4e20-8f90-119d0bfe7262",
     "showTitle": false,
     "title": ""
    }
   },
   "outputs": [],
   "source": [
    "# Turn the string lines from raw_content into an array.\n",
    "content = raw_content.map(lambda x: x.split(','))"
   ]
  },
  {
   "cell_type": "code",
   "execution_count": 26,
   "metadata": {
    "application/vnd.databricks.v1+cell": {
     "cellMetadata": {},
     "inputWidgets": {},
     "nuid": "44d36de0-181b-4a3a-af11-72a92c44776f",
     "showTitle": false,
     "title": ""
    }
   },
   "outputs": [
    {
     "data": {
      "text/plain": [
       "[['\"date\"',\n",
       "  '\"time\"',\n",
       "  '\"size\"',\n",
       "  '\"r_version\"',\n",
       "  '\"r_arch\"',\n",
       "  '\"r_os\"',\n",
       "  '\"package\"',\n",
       "  '\"version\"',\n",
       "  '\"country\"',\n",
       "  '\"ip_id\"'],\n",
       " ['\"2023-11-12\"',\n",
       "  '\"10:49:26\"',\n",
       "  '315371',\n",
       "  '\"4.3.2\"',\n",
       "  '\"x86_64\"',\n",
       "  '\"mingw32\"',\n",
       "  '\"gower\"',\n",
       "  '\"1.0.1\"',\n",
       "  '\"AU\"',\n",
       "  '1'],\n",
       " ['\"2023-11-12\"',\n",
       "  '\"10:49:24\"',\n",
       "  '2563987',\n",
       "  '\"4.3.2\"',\n",
       "  '\"x86_64\"',\n",
       "  '\"mingw32\"',\n",
       "  '\"lava\"',\n",
       "  '\"1.7.3\"',\n",
       "  '\"AU\"',\n",
       "  '1'],\n",
       " ['\"2023-11-12\"',\n",
       "  '\"10:49:21\"',\n",
       "  '677249',\n",
       "  '\"4.3.2\"',\n",
       "  '\"x86_64\"',\n",
       "  '\"mingw32\"',\n",
       "  '\"future\"',\n",
       "  '\"1.33.0\"',\n",
       "  '\"AU\"',\n",
       "  '1'],\n",
       " ['\"2023-11-12\"',\n",
       "  '\"10:49:26\"',\n",
       "  '1106170',\n",
       "  '\"4.2.1\"',\n",
       "  '\"x86_64\"',\n",
       "  '\"mingw32\"',\n",
       "  '\"jsonlite\"',\n",
       "  '\"1.8.7\"',\n",
       "  '\"CN\"',\n",
       "  '2']]"
      ]
     },
     "execution_count": 26,
     "metadata": {},
     "output_type": "execute_result"
    }
   ],
   "source": [
    "# The lines are split now.\n",
    "content.take(5)"
   ]
  },
  {
   "cell_type": "code",
   "execution_count": 27,
   "metadata": {
    "application/vnd.databricks.v1+cell": {
     "cellMetadata": {},
     "inputWidgets": {},
     "nuid": "7871dc83-fb56-4dff-8752-74bb7f16662a",
     "showTitle": false,
     "title": ""
    }
   },
   "outputs": [
    {
     "data": {
      "text/plain": [
       "[['date',\n",
       "  'time',\n",
       "  'size',\n",
       "  'r_version',\n",
       "  'r_arch',\n",
       "  'r_os',\n",
       "  'package',\n",
       "  'version',\n",
       "  'country',\n",
       "  'ip_id'],\n",
       " ['2023-11-12',\n",
       "  '10:49:26',\n",
       "  '315371',\n",
       "  '4.3.2',\n",
       "  'x86_64',\n",
       "  'mingw32',\n",
       "  'gower',\n",
       "  '1.0.1',\n",
       "  'AU',\n",
       "  '1'],\n",
       " ['2023-11-12',\n",
       "  '10:49:24',\n",
       "  '2563987',\n",
       "  '4.3.2',\n",
       "  'x86_64',\n",
       "  'mingw32',\n",
       "  'lava',\n",
       "  '1.7.3',\n",
       "  'AU',\n",
       "  '1'],\n",
       " ['2023-11-12',\n",
       "  '10:49:21',\n",
       "  '677249',\n",
       "  '4.3.2',\n",
       "  'x86_64',\n",
       "  'mingw32',\n",
       "  'future',\n",
       "  '1.33.0',\n",
       "  'AU',\n",
       "  '1'],\n",
       " ['2023-11-12',\n",
       "  '10:49:26',\n",
       "  '1106170',\n",
       "  '4.2.1',\n",
       "  'x86_64',\n",
       "  'mingw32',\n",
       "  'jsonlite',\n",
       "  '1.8.7',\n",
       "  'CN',\n",
       "  '2']]"
      ]
     },
     "execution_count": 27,
     "metadata": {},
     "output_type": "execute_result"
    }
   ],
   "source": [
    "def clean(line):\n",
    "    \"\"\"Remove quotation marks \" from data entries.\"\"\"\n",
    "    return([item.replace('\"', '') for item in line])\n",
    "\n",
    "content = content.map(clean)\n",
    "\n",
    "# Now it looks much better.\n",
    "content.take(5)"
   ]
  },
  {
   "cell_type": "markdown",
   "metadata": {
    "application/vnd.databricks.v1+cell": {
     "cellMetadata": {},
     "inputWidgets": {},
     "nuid": "845bb0e5-9304-4f6a-827d-5a564983e9a6",
     "showTitle": false,
     "title": ""
    }
   },
   "source": [
    "## Finding and Counting"
   ]
  },
  {
   "cell_type": "code",
   "execution_count": 28,
   "metadata": {
    "application/vnd.databricks.v1+cell": {
     "cellMetadata": {},
     "inputWidgets": {},
     "nuid": "490b29b6-2975-45f8-b79a-602414bdd040",
     "showTitle": false,
     "title": ""
    }
   },
   "outputs": [
    {
     "data": {
      "text/plain": [
       "78975"
      ]
     },
     "execution_count": 28,
     "metadata": {},
     "output_type": "execute_result"
    }
   ],
   "source": [
    "# How often was 'ggplot2' downloaded?\n",
    "ggplot2 = content.filter(lambda x: x[6] == 'ggplot2').count()\n",
    "ggplot2"
   ]
  },
  {
   "cell_type": "code",
   "execution_count": 29,
   "metadata": {
    "application/vnd.databricks.v1+cell": {
     "cellMetadata": {},
     "inputWidgets": {},
     "nuid": "61fcd0d3-3f07-46e2-813a-13e170794060",
     "showTitle": false,
     "title": ""
    }
   },
   "outputs": [
    {
     "data": {
      "text/plain": [
       "PythonRDD[35] at RDD at PythonRDD.scala:53"
      ]
     },
     "execution_count": 29,
     "metadata": {},
     "output_type": "execute_result"
    }
   ],
   "source": [
    "# You can filter for multiple fields at the same time.\n",
    "ggplot2_nl = content.filter(lambda x: x[6] == 'ggplot2' and x[8] == 'NL')\n",
    "ggplot2_nl"
   ]
  },
  {
   "cell_type": "code",
   "execution_count": 30,
   "metadata": {
    "application/vnd.databricks.v1+cell": {
     "cellMetadata": {},
     "inputWidgets": {},
     "nuid": "7801eceb-29d1-448c-b223-520f2a00a15a",
     "showTitle": false,
     "title": ""
    }
   },
   "outputs": [
    {
     "data": {
      "text/plain": [
       "[['2023-11-12',\n",
       "  '10:51:53',\n",
       "  '4300000',\n",
       "  '4.3.2',\n",
       "  'x86_64',\n",
       "  'mingw32',\n",
       "  'ggplot2',\n",
       "  '3.4.4',\n",
       "  'NL',\n",
       "  '280'],\n",
       " ['2023-11-12',\n",
       "  '22:59:49',\n",
       "  '3163440',\n",
       "  '4.3.1',\n",
       "  'x86_64',\n",
       "  'linux-gnu',\n",
       "  'ggplot2',\n",
       "  '3.4.4',\n",
       "  'NL',\n",
       "  '600']]"
      ]
     },
     "execution_count": 30,
     "metadata": {},
     "output_type": "execute_result"
    }
   ],
   "source": [
    "# Let's look at the filtered rows themselves.\n",
    "ggplot2_nl.take(2)"
   ]
  },
  {
   "cell_type": "markdown",
   "metadata": {
    "application/vnd.databricks.v1+cell": {
     "cellMetadata": {},
     "inputWidgets": {},
     "nuid": "5deecf08-1a02-4d3c-aaaa-6c8fa554915d",
     "showTitle": false,
     "title": ""
    }
   },
   "source": [
    "## Reduce\n",
    "Filtering works nicely, but let's aggregate and count _all_ packages instead."
   ]
  },
  {
   "cell_type": "code",
   "execution_count": 31,
   "metadata": {
    "application/vnd.databricks.v1+cell": {
     "cellMetadata": {},
     "inputWidgets": {},
     "nuid": "9551057b-2f60-4307-a9c5-c96c4a61ec59",
     "showTitle": false,
     "title": ""
    }
   },
   "outputs": [
    {
     "data": {
      "text/plain": [
       "pyspark.rdd.PipelinedRDD"
      ]
     },
     "execution_count": 31,
     "metadata": {},
     "output_type": "execute_result"
    }
   ],
   "source": [
    "# A common way to \"reduce\" in Spark: Tie a field containing \"1\" to all lines and sum these fields per key.\n",
    "package_count = content.map(lambda x: (x[6], 1)).reduceByKey(lambda a,b: a+b)\n",
    "type(package_count)"
   ]
  },
  {
   "cell_type": "code",
   "execution_count": 32,
   "metadata": {
    "application/vnd.databricks.v1+cell": {
     "cellMetadata": {},
     "inputWidgets": {},
     "nuid": "832e4c39-a3b5-4d84-b12a-960348be1796",
     "showTitle": false,
     "title": ""
    }
   },
   "outputs": [
    {
     "data": {
      "text/plain": [
       "[('package', 1),\n",
       " ('gower', 4776),\n",
       " ('lava', 5720),\n",
       " ('future', 6171),\n",
       " ('jsonlite', 19287)]"
      ]
     },
     "execution_count": 32,
     "metadata": {},
     "output_type": "execute_result"
    }
   ],
   "source": [
    "# This is how the aggregate looks like now.\n",
    "package_count.take(5)"
   ]
  },
  {
   "cell_type": "code",
   "execution_count": 36,
   "metadata": {
    "application/vnd.databricks.v1+cell": {
     "cellMetadata": {},
     "inputWidgets": {},
     "nuid": "79cdec75-82b8-422a-b7e3-f951d91d054d",
     "showTitle": false,
     "title": ""
    }
   },
   "outputs": [
    {
     "data": {
      "text/plain": [
       "[4083]"
      ]
     },
     "execution_count": 36,
     "metadata": {},
     "output_type": "execute_result"
    }
   ],
   "source": [
    "# We can still query the count of single packages.\n",
    "package_count.lookup(\"XML\")"
   ]
  },
  {
   "cell_type": "markdown",
   "metadata": {
    "application/vnd.databricks.v1+cell": {
     "cellMetadata": {},
     "inputWidgets": {},
     "nuid": "dc3ff999-b34f-403e-8c6e-ad7c1b989caf",
     "showTitle": false,
     "title": ""
    }
   },
   "source": [
    "## Intermezzo 2: Joins\n",
    "See https://javarevisited.blogspot.com/2013/05/difference-between-left-and-right-outer-join-sql-mysql.html for details about join flavours."
   ]
  },
  {
   "cell_type": "code",
   "execution_count": 37,
   "metadata": {
    "application/vnd.databricks.v1+cell": {
     "cellMetadata": {},
     "inputWidgets": {},
     "nuid": "40fc87e5-60a1-4701-9772-193f3a720aaf",
     "showTitle": false,
     "title": ""
    }
   },
   "outputs": [
    {
     "data": {
      "text/plain": [
       "[('country',\n",
       "  ['date',\n",
       "   'time',\n",
       "   'size',\n",
       "   'r_version',\n",
       "   'r_arch',\n",
       "   'r_os',\n",
       "   'package',\n",
       "   'version',\n",
       "   'country',\n",
       "   'ip_id']),\n",
       " ('AU',\n",
       "  ['2023-11-12',\n",
       "   '10:49:26',\n",
       "   '315371',\n",
       "   '4.3.2',\n",
       "   'x86_64',\n",
       "   'mingw32',\n",
       "   'gower',\n",
       "   '1.0.1',\n",
       "   'AU',\n",
       "   '1'])]"
      ]
     },
     "execution_count": 37,
     "metadata": {},
     "output_type": "execute_result"
    }
   ],
   "source": [
    "# Let's split out the country to use as a key.\n",
    "content_modified=content.map(lambda x:(x[8], x))\n",
    "content_modified.take(2)"
   ]
  },
  {
   "cell_type": "code",
   "execution_count": 38,
   "metadata": {
    "application/vnd.databricks.v1+cell": {
     "cellMetadata": {},
     "inputWidgets": {},
     "nuid": "8f049174-217c-455e-ac67-73d0b6ed13f3",
     "showTitle": false,
     "title": ""
    }
   },
   "outputs": [],
   "source": [
    "# Your mapping list can be as long as you like. As an example, we take two countries. \n",
    "mapping=[('NL', 'Netherlands'), ('US', 'United States')]"
   ]
  },
  {
   "cell_type": "code",
   "execution_count": 39,
   "metadata": {
    "application/vnd.databricks.v1+cell": {
     "cellMetadata": {},
     "inputWidgets": {},
     "nuid": "472a02e9-7871-4d8c-a442-fa4632547794",
     "showTitle": false,
     "title": ""
    }
   },
   "outputs": [],
   "source": [
    "# Distribute the mapping to form an RDD.\n",
    "mapping_rdd=sc.parallelize(mapping)"
   ]
  },
  {
   "cell_type": "code",
   "execution_count": 40,
   "metadata": {
    "application/vnd.databricks.v1+cell": {
     "cellMetadata": {},
     "inputWidgets": {},
     "nuid": "605b4673-8d9a-48ca-bec0-58b03306df73",
     "showTitle": false,
     "title": ""
    }
   },
   "outputs": [
    {
     "data": {
      "text/plain": [
       "3523030"
      ]
     },
     "execution_count": 40,
     "metadata": {},
     "output_type": "execute_result"
    }
   ],
   "source": [
    "# For comparison with below commands: How many lines does `content_modified` have?\n",
    "content_modified.count()"
   ]
  },
  {
   "cell_type": "code",
   "execution_count": 41,
   "metadata": {
    "application/vnd.databricks.v1+cell": {
     "cellMetadata": {},
     "inputWidgets": {},
     "nuid": "248628c7-6f05-442b-aca4-f070dc3b62a5",
     "showTitle": false,
     "title": ""
    }
   },
   "outputs": [
    {
     "data": {
      "text/plain": [
       "1048923"
      ]
     },
     "execution_count": 41,
     "metadata": {},
     "output_type": "execute_result"
    }
   ],
   "source": [
    "# Performing an \"inner join\" operation. This is _shorter_ than `content_modified`, since an \"inner join\" only produces lines that share a key in both `content_modified` and `mapping_rdd`.\n",
    "join = content_modified.join(mapping_rdd)\n",
    "join.count()"
   ]
  },
  {
   "cell_type": "code",
   "execution_count": null,
   "metadata": {
    "application/vnd.databricks.v1+cell": {
     "cellMetadata": {},
     "inputWidgets": {},
     "nuid": "be7c2f0d-5856-43e5-a67b-24d90192f204",
     "showTitle": false,
     "title": ""
    }
   },
   "outputs": [],
   "source": [
    "# This is what the data looks like. Notice that _all_ entries have matched with mapping_rdd and contain the country name as last field.\n",
    "join.takeSample(withReplacement=False, num=2)"
   ]
  },
  {
   "cell_type": "code",
   "execution_count": null,
   "metadata": {
    "application/vnd.databricks.v1+cell": {
     "cellMetadata": {},
     "inputWidgets": {},
     "nuid": "93633b1f-2e62-43d6-86e5-68f878adc9be",
     "showTitle": false,
     "title": ""
    }
   },
   "outputs": [],
   "source": [
    "# Performing a \"left outer join\" operation. This is exactly as long as `content_modified`, since the key only has to appear in the \"left\" (`content_modified`) set, and not necessarily in `mapping_rdd`.\n",
    "left_outer_join = content_modified.leftOuterJoin(mapping_rdd)\n",
    "left_outer_join.count()"
   ]
  },
  {
   "cell_type": "code",
   "execution_count": null,
   "metadata": {
    "application/vnd.databricks.v1+cell": {
     "cellMetadata": {},
     "inputWidgets": {},
     "nuid": "7cdbd9d8-fe82-4be7-bda3-cb829cbef83f",
     "showTitle": false,
     "title": ""
    }
   },
   "outputs": [],
   "source": [
    "# Notice that not all lines have matched with `mapping_rdd`. These lines now contain `None` as last item.\n",
    "left_outer_join.takeSample(False, 8)"
   ]
  },
  {
   "cell_type": "markdown",
   "metadata": {
    "application/vnd.databricks.v1+cell": {
     "cellMetadata": {},
     "inputWidgets": {},
     "nuid": "82a0db79-a29e-4c93-8789-396dff4fdfb4",
     "showTitle": false,
     "title": ""
    }
   },
   "source": [
    "## Sorting"
   ]
  },
  {
   "cell_type": "code",
   "execution_count": null,
   "metadata": {
    "application/vnd.databricks.v1+cell": {
     "cellMetadata": {},
     "inputWidgets": {},
     "nuid": "238d5cd8-cfd1-412e-8ecd-f15c8b5d0b47",
     "showTitle": false,
     "title": ""
    }
   },
   "outputs": [],
   "source": [
    "# Let's create a Top 10 list of downloaded R packages.\n",
    "top_10 = package_count.map(lambda x: (x[1], x[0])).sortByKey(0).take(10)\n",
    "top_10"
   ]
  },
  {
   "cell_type": "markdown",
   "metadata": {
    "application/vnd.databricks.v1+cell": {
     "cellMetadata": {},
     "inputWidgets": {},
     "nuid": "a9b03bb2-00d5-4e1e-8065-92807e170f8a",
     "showTitle": false,
     "title": ""
    }
   },
   "source": [
    "## Plotting the Top 10"
   ]
  },
  {
   "cell_type": "code",
   "execution_count": null,
   "metadata": {
    "application/vnd.databricks.v1+cell": {
     "cellMetadata": {},
     "inputWidgets": {},
     "nuid": "ccb89ef9-2207-4c02-8f4d-f920dc2652a3",
     "showTitle": false,
     "title": ""
    }
   },
   "outputs": [],
   "source": [
    "# We can reproduce the above plot by hand, it's not very difficult.\n",
    "from matplotlib import pyplot as plt"
   ]
  },
  {
   "cell_type": "code",
   "execution_count": null,
   "metadata": {
    "application/vnd.databricks.v1+cell": {
     "cellMetadata": {},
     "inputWidgets": {},
     "nuid": "d19b11a8-201d-490e-8c02-1825eae79093",
     "showTitle": false,
     "title": ""
    }
   },
   "outputs": [],
   "source": [
    "data = list(zip(*top_10))  # Transpose the list.\n",
    "data.reverse()  # Switch columns, now they are in the right order for matplotlib.\n",
    "data"
   ]
  },
  {
   "cell_type": "code",
   "execution_count": null,
   "metadata": {
    "application/vnd.databricks.v1+cell": {
     "cellMetadata": {},
     "inputWidgets": {},
     "nuid": "2691a4a6-61fe-438e-9ded-bcdc9aa90cfa",
     "showTitle": false,
     "title": ""
    }
   },
   "outputs": [],
   "source": [
    "plt.bar(*data)\n",
    "plt.xticks(rotation=-30)\n",
    "plt.xlabel(\"Package name\")\n",
    "plt.ylabel(\"Downloads per day\")"
   ]
  },
  {
   "cell_type": "markdown",
   "metadata": {
    "application/vnd.databricks.v1+cell": {
     "cellMetadata": {},
     "inputWidgets": {},
     "nuid": "9d46f83b-5e4d-43d5-8620-7ff91ce3db43",
     "showTitle": false,
     "title": ""
    }
   },
   "source": [
    "## Bonus\n",
    "\n",
    "- What are the 10 most downloaded packages last month?\n",
    "- What are the 10 most downloaded packages last year?\n",
    "\n",
    "You can find all data here: http://cran-logs.rstudio.com/"
   ]
  },
  {
   "cell_type": "code",
   "execution_count": null,
   "metadata": {
    "application/vnd.databricks.v1+cell": {
     "cellMetadata": {},
     "inputWidgets": {},
     "nuid": "fc572839-9966-474e-83d2-2a88f2723183",
     "showTitle": false,
     "title": ""
    }
   },
   "outputs": [],
   "source": []
  }
 ],
 "metadata": {
  "application/vnd.databricks.v1+notebook": {
   "dashboards": [],
   "language": "python",
   "notebookMetadata": {
    "pythonIndentUnit": 4
   },
   "notebookName": "R_packages (1)",
   "notebookOrigID": 2324765754903862,
   "widgets": {}
  },
  "kernelspec": {
   "display_name": "Python 3 (ipykernel)",
   "language": "python",
   "name": "python3"
  },
  "language_info": {
   "codemirror_mode": {
    "name": "ipython",
    "version": 3
   },
   "file_extension": ".py",
   "mimetype": "text/x-python",
   "name": "python",
   "nbconvert_exporter": "python",
   "pygments_lexer": "ipython3",
   "version": "3.11.6"
  }
 },
 "nbformat": 4,
 "nbformat_minor": 4
}

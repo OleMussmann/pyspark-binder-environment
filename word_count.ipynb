{
 "cells": [
  {
   "cell_type": "markdown",
   "id": "42d6470b-9d4d-4785-8e3b-eb63c97585b2",
   "metadata": {},
   "source": [
    "# Analyzing irregularities in large bodies of text"
   ]
  },
  {
   "cell_type": "markdown",
   "id": "0d0cbfe1-03f6-485a-a351-eacde19cd720",
   "metadata": {},
   "source": [
    "## Importing Packages"
   ]
  },
  {
   "cell_type": "code",
   "execution_count": 1,
   "id": "239b631c-bb96-47e8-af87-3b4953c0615d",
   "metadata": {},
   "outputs": [],
   "source": [
    "import os\n",
    "import s3fs\n",
    "from operator import add\n",
    "from pyspark.sql import SparkSession\n",
    "from pyspark.sql.types import StringType"
   ]
  },
  {
   "cell_type": "markdown",
   "id": "78f8ed76-20e6-4094-9088-936fd83c765b",
   "metadata": {},
   "source": [
    "## Initialize Spark Session"
   ]
  },
  {
   "cell_type": "code",
   "execution_count": 2,
   "id": "f60243f5-f874-4e1b-94bb-aff28dd03708",
   "metadata": {},
   "outputs": [],
   "source": [
    "spark = SparkSession\\\n",
    "       .builder\\\n",
    "       .appName(\"PythonWordCount\")\\\n",
    "       .getOrCreate()"
   ]
  },
  {
   "cell_type": "markdown",
   "id": "5814d07f-a4b5-45ba-aeed-79b5c101b614",
   "metadata": {},
   "source": [
    "## Access Data from S3 Bucket"
   ]
  },
  {
   "cell_type": "code",
   "execution_count": 3,
   "id": "9f15b2e9-bc68-4b6b-9060-714e68df9781",
   "metadata": {},
   "outputs": [],
   "source": [
    "AWS_BUCKET_NAME = \"estp-test-bucket-2\"\n",
    "MOUNT_NAME = \"my-bucket\"\n",
    "\n",
    "# Replace the credentials `ACC` and `SEC` here!\n",
    "os.environ[\"AWS_ACCESS_KEY_ID\"] = \"ACC\"\n",
    "os.environ[\"AWS_SECRET_ACCESS_KEY\"] = \"SEC\"\n",
    "\n",
    "s3 = s3fs.S3FileSystem(anon=True)"
   ]
  },
  {
   "cell_type": "markdown",
   "id": "12008550-b131-474d-8677-638b25065ac8",
   "metadata": {},
   "source": [
    "## Read Data into Spark DataFrame"
   ]
  },
  {
   "cell_type": "code",
   "execution_count": 4,
   "id": "d6dc3192-7fbf-4a7c-93cf-cdb9aa67e632",
   "metadata": {},
   "outputs": [],
   "source": [
    "with s3.open(AWS_BUCKET_NAME + \"/pride/pride10.txt\") as f:\n",
    "    pride_10 = f.read().decode('utf-8').splitlines()\n",
    "    pride_10 = spark.createDataFrame(pride_10, StringType())"
   ]
  },
  {
   "cell_type": "markdown",
   "id": "c59e09a0-a353-415c-984f-a183845250f7",
   "metadata": {},
   "source": [
    "## Data Overview"
   ]
  },
  {
   "cell_type": "code",
   "execution_count": 5,
   "id": "55fddb5f-4a05-4b55-ba8c-fa409dbd9eae",
   "metadata": {},
   "outputs": [
    {
     "data": {
      "text/plain": [
       "[Row(value='PRIDE AND PREJUDICE'),\n",
       " Row(value=''),\n",
       " Row(value='By Jane Austen'),\n",
       " Row(value=''),\n",
       " Row(value=''),\n",
       " Row(value=''),\n",
       " Row(value='Chapter 1'),\n",
       " Row(value=''),\n",
       " Row(value=''),\n",
       " Row(value='It is a truth universally acknowledged that a single man in possession'),\n",
       " Row(value='of a good fortune must be in want of a wife'),\n",
       " Row(value=''),\n",
       " Row(value='However little known the feelings or views of such a man may be on his'),\n",
       " Row(value='first entering a neighbourhood this truth is so well fixed in the minds'),\n",
       " Row(value='of the surrounding families that he is considered the rightful property'),\n",
       " Row(value='of some one or other of their daughters'),\n",
       " Row(value=''),\n",
       " Row(value='My dear Mr Bennet said his lady to him one day have you heard that'),\n",
       " Row(value='Netherfield Park is let at last'),\n",
       " Row(value='')]"
      ]
     },
     "execution_count": 5,
     "metadata": {},
     "output_type": "execute_result"
    }
   ],
   "source": [
    "# Show the first 20 lines\n",
    "pride_10.head(n=20)"
   ]
  },
  {
   "cell_type": "markdown",
   "id": "2cb1d152-0f1f-477b-9da2-7e2c69f6c932",
   "metadata": {},
   "source": [
    "## Count Words: Map Reduce"
   ]
  },
  {
   "cell_type": "code",
   "execution_count": 6,
   "id": "6730bc87-ed93-4d3a-91f8-e91ff2b58deb",
   "metadata": {},
   "outputs": [
    {
     "data": {
      "text/plain": [
       "[('PRIDE', 10),\n",
       " ('AND', 10),\n",
       " ('PREJUDICE', 10),\n",
       " ('', 25170),\n",
       " ('By', 140),\n",
       " ('Jane', 2610),\n",
       " ('Austen', 20),\n",
       " ('Chapter', 610),\n",
       " ('1', 10),\n",
       " ('It', 2460)]"
      ]
     },
     "execution_count": 6,
     "metadata": {},
     "output_type": "execute_result"
    }
   ],
   "source": [
    "lines = pride_10.rdd.map(lambda r: r[0])\n",
    "\n",
    "counts = lines.flatMap(lambda x: x.split(' ')) \\\n",
    "                  .map(lambda x: (x, 1)) \\\n",
    "                  .reduceByKey(add)\n",
    "output = counts.collect()\n",
    "\n",
    "# Show the first 10 lines\n",
    "output[:10]"
   ]
  },
  {
   "cell_type": "markdown",
   "id": "041a4705-26a7-4aaf-aed8-60ee9a102988",
   "metadata": {},
   "source": [
    "## Your Turn!\n",
    "\n",
    "Figure out which word was changed."
   ]
  },
  {
   "cell_type": "code",
   "execution_count": 7,
   "id": "8aa1a668-e96e-424f-93f8-e9a8f48a3a8d",
   "metadata": {},
   "outputs": [],
   "source": [
    "for line in output:\n",
    "    pass"
   ]
  }
 ],
 "metadata": {
  "kernelspec": {
   "display_name": "Python 3 (ipykernel)",
   "language": "python",
   "name": "python3"
  },
  "language_info": {
   "codemirror_mode": {
    "name": "ipython",
    "version": 3
   },
   "file_extension": ".py",
   "mimetype": "text/x-python",
   "name": "python",
   "nbconvert_exporter": "python",
   "pygments_lexer": "ipython3",
   "version": "3.11.6"
  }
 },
 "nbformat": 4,
 "nbformat_minor": 5
}
